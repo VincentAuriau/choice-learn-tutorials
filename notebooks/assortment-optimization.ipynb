{
 "cells": [
  {
   "cell_type": "code",
   "execution_count": 2,
   "metadata": {},
   "outputs": [],
   "source": [
    "# Importing the right base libraries\n",
    "import os\n",
    "# Remove GPU use\n",
    "os.environ[\"CUDA_VISIBLE_DEVICES\"] = \"\"\n",
    "\n",
    "import sys\n",
    "sys.path.append(\"../../\")\n",
    "\n",
    "import numpy as np"
   ]
  },
  {
   "cell_type": "code",
   "execution_count": null,
   "metadata": {},
   "outputs": [],
   "source": [
    "from choice_learn.datasets import load_tafeng\n",
    "\n",
    "tafeng_df = load_tafeng(as_frame=True)\n",
    "tafeng_df.head()"
   ]
  },
  {
   "cell_type": "code",
   "execution_count": null,
   "metadata": {},
   "outputs": [],
   "source": [
    "tafeng_df = tafeng_df.loc[tafeng_df.PRODUCT_ID.isin(tafeng_df.PRODUCT_ID.value_counts().index[:20])].reset_index(drop=True)\n",
    "tafeng_df = tafeng_df.loc[tafeng_df.AGE_GROUP.isin(['25-29', '40-44', '45-49', '>65', '30-34', '35-39', '50-54',\n",
    "       '55-59', '60-64'])].reset_index(drop=True)\n",
    "tafeng_df"
   ]
  },
  {
   "cell_type": "code",
   "execution_count": 5,
   "metadata": {},
   "outputs": [],
   "source": [
    "tafeng_df[\"twenties\"] = tafeng_df.apply(lambda row: 1 if row[\"AGE_GROUP\"] == \"25-29\" else 0, axis=1)\n",
    "tafeng_df[\"thirties\"] = tafeng_df.apply(lambda row: 1 if row[\"AGE_GROUP\"] in ([\"30-34\", \"35-39\"]) else 0, axis=1)\n",
    "tafeng_df[\"forties\"] = tafeng_df.apply(lambda row: 1 if row[\"AGE_GROUP\"] in ([\"40-44\", \"45-49\"]) else 0, axis=1)\n",
    "tafeng_df[\"fifties\"] = tafeng_df.apply(lambda row: 1 if row[\"AGE_GROUP\"] in ([\"50-54\", \"55-59\"]) else 0, axis=1)\n",
    "tafeng_df[\"sixties+\"] = tafeng_df.apply(lambda row: 1 if row[\"AGE_GROUP\"] in ([\"60-64\", \">65\"]) else 0, axis=1)"
   ]
  },
  {
   "cell_type": "code",
   "execution_count": 7,
   "metadata": {},
   "outputs": [],
   "source": [
    "# product ID to index\n",
    "id_to_index = {}\n",
    "for i, product_id in enumerate(np.sort(tafeng_df.PRODUCT_ID.unique())):\n",
    "    id_to_index[product_id] = i\n",
    "\n",
    "prices = [[0] for _ in range(len(id_to_index))]\n",
    "for k, v in id_to_index.items():\n",
    "    prices[v][0] = tafeng_df.loc[tafeng_df.PRODUCT_ID == k].SALES_PRICE.to_numpy()[0]\n",
    "\n",
    "# Create the arrays that will constitute the ChoiceDataset\n",
    "\n",
    "shared_features = []\n",
    "items_features = []\n",
    "choices = []\n",
    "\n",
    "for i, row in tafeng_df.iterrows():\n",
    "    item_index = id_to_index[row.PRODUCT_ID]\n",
    "    prices[item_index][0] = row.SALES_PRICE\n",
    "    shared_features.append(row[['twenties', 'thirties', 'forties', 'fifties', 'sixties+']].to_numpy())\n",
    "    items_features.append(prices)\n",
    "    choices.append(item_index)"
   ]
  },
  {
   "cell_type": "code",
   "execution_count": 9,
   "metadata": {},
   "outputs": [],
   "source": [
    "from choice_learn.data import ChoiceDataset\n",
    "\n",
    "dataset = ChoiceDataset(\n",
    "    shared_features_by_choice=shared_features,\n",
    "    shared_features_by_choice_names=['twenties', 'thirties', 'forties', 'fifties', 'sixties+'],\n",
    "    items_features_by_choice=items_features,\n",
    "    items_features_by_choice_names=[\"SALES_PRICE\"],\n",
    "    choices=choices\n",
    ")"
   ]
  },
  {
   "cell_type": "code",
   "execution_count": null,
   "metadata": {},
   "outputs": [],
   "source": [
    "from choice_learn.models import ConditionalLogit\n",
    "\n",
    "model = ConditionalLogit(optimizer=\"Adam\", batch_size=1024, epochs=500, lr=0.002)\n",
    "\n",
    "for age_category in ['twenties', 'thirties', 'forties', 'fifties', 'sixties+']:\n",
    "    model.add_coefficients(coefficient_name=age_category,\n",
    "    feature_name=age_category,\n",
    "    items_indexes=list(range(20)))\n",
    "\n",
    "model.add_shared_coefficient(coefficient_name=\"price\", feature_name=\"SALES_PRICE\", items_indexes=list(range(20)))\n",
    "\n",
    "hist = model.fit(dataset)"
   ]
  },
  {
   "cell_type": "code",
   "execution_count": null,
   "metadata": {},
   "outputs": [],
   "source": [
    "import matplotlib.pyplot as plt\n",
    "\n",
    "plt.plot(hist[\"train_loss\"])"
   ]
  },
  {
   "cell_type": "code",
   "execution_count": 11,
   "metadata": {},
   "outputs": [],
   "source": [
    "future_prices = np.stack([items_features[-1]]*5, axis=0)\n",
    "age_category = np.eye(5).astype(\"float32\")\n",
    "predicted_utilities = model.compute_batch_utility(shared_features_by_choice=age_category,\n",
    "                                                  items_features_by_choice=future_prices,\n",
    "                                                  available_items_by_choice=np.ones((5, 20)),\n",
    "                                                  choices=None\n",
    "                                                  )\n",
    "\n",
    "age_category_weights = np.sum(shared_features, axis=0) / len(shared_features)"
   ]
  },
  {
   "cell_type": "code",
   "execution_count": 12,
   "metadata": {},
   "outputs": [],
   "source": [
    "from choice_learn.toolbox.assortment_optimizer import LatentClassAssortmentOptimizer\n",
    "\n",
    "opt = LatentClassAssortmentOptimizer(\n",
    "    solver=\"or-tools\", # Solver to use, either \"or-tools\" or \"gurobi\"\n",
    "    class_weights=age_category_weights, # Weights of each class\n",
    "    class_utilities=np.exp(predicted_utilities), # utilities in the shape (n_classes, n_items)\n",
    "    itemwise_values=future_prices[0][:, 0], # Values to optimize for each item, here price that is used to compute turnover\n",
    "    assortment_size=12) # Size of the assortment we want"
   ]
  },
  {
   "cell_type": "code",
   "execution_count": null,
   "metadata": {},
   "outputs": [],
   "source": [
    "assortment, opt_obj = opt.solve()\n",
    "print(\"Our Optimal Assortment is:\")\n",
    "print(assortment)\n",
    "print(\"With an estimated average revenue of:\", opt_obj)\n",
    "print(\"Size of our assortment:\", np.sum((assortment > 0)), \"which is fine with our limit of 12!\")"
   ]
  },
  {
   "cell_type": "markdown",
   "metadata": {},
   "source": []
  },
  {
   "cell_type": "markdown",
   "metadata": {},
   "source": []
  }
 ],
 "metadata": {
  "kernelspec": {
   "display_name": "choice_learn",
   "language": "python",
   "name": "python3"
  },
  "language_info": {
   "codemirror_mode": {
    "name": "ipython",
    "version": 3
   },
   "file_extension": ".py",
   "mimetype": "text/x-python",
   "name": "python",
   "nbconvert_exporter": "python",
   "pygments_lexer": "ipython3",
   "version": "3.11.5"
  }
 },
 "nbformat": 4,
 "nbformat_minor": 2
}
