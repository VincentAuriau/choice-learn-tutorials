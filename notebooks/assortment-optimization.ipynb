{
 "cells": [
  {
   "cell_type": "code",
   "execution_count": 1,
   "metadata": {},
   "outputs": [],
   "source": [
    "# Importing the right base libraries\n",
    "import os\n",
    "# Remove GPU use\n",
    "os.environ[\"CUDA_VISIBLE_DEVICES\"] = \"\"\n",
    "\n",
    "import sys\n",
    "sys.path.append(\"../../\")\n",
    "\n",
    "import numpy as np"
   ]
  },
  {
   "cell_type": "code",
   "execution_count": 2,
   "metadata": {},
   "outputs": [
    {
     "data": {
      "text/html": [
       "<div>\n",
       "<style scoped>\n",
       "    .dataframe tbody tr th:only-of-type {\n",
       "        vertical-align: middle;\n",
       "    }\n",
       "\n",
       "    .dataframe tbody tr th {\n",
       "        vertical-align: top;\n",
       "    }\n",
       "\n",
       "    .dataframe thead th {\n",
       "        text-align: right;\n",
       "    }\n",
       "</style>\n",
       "<table border=\"1\" class=\"dataframe\">\n",
       "  <thead>\n",
       "    <tr style=\"text-align: right;\">\n",
       "      <th></th>\n",
       "      <th>TRANSACTION_DT</th>\n",
       "      <th>CUSTOMER_ID</th>\n",
       "      <th>AGE_GROUP</th>\n",
       "      <th>PIN_CODE</th>\n",
       "      <th>PRODUCT_SUBCLASS</th>\n",
       "      <th>PRODUCT_ID</th>\n",
       "      <th>AMOUNT</th>\n",
       "      <th>ASSET</th>\n",
       "      <th>SALES_PRICE</th>\n",
       "    </tr>\n",
       "  </thead>\n",
       "  <tbody>\n",
       "    <tr>\n",
       "      <th>0</th>\n",
       "      <td>11/1/2000</td>\n",
       "      <td>1104905</td>\n",
       "      <td>45-49</td>\n",
       "      <td>115</td>\n",
       "      <td>110411</td>\n",
       "      <td>4710199010372</td>\n",
       "      <td>2</td>\n",
       "      <td>24</td>\n",
       "      <td>30</td>\n",
       "    </tr>\n",
       "    <tr>\n",
       "      <th>1</th>\n",
       "      <td>11/1/2000</td>\n",
       "      <td>418683</td>\n",
       "      <td>45-49</td>\n",
       "      <td>115</td>\n",
       "      <td>120107</td>\n",
       "      <td>4710857472535</td>\n",
       "      <td>1</td>\n",
       "      <td>48</td>\n",
       "      <td>46</td>\n",
       "    </tr>\n",
       "    <tr>\n",
       "      <th>2</th>\n",
       "      <td>11/1/2000</td>\n",
       "      <td>1057331</td>\n",
       "      <td>35-39</td>\n",
       "      <td>115</td>\n",
       "      <td>100407</td>\n",
       "      <td>4710043654103</td>\n",
       "      <td>2</td>\n",
       "      <td>142</td>\n",
       "      <td>166</td>\n",
       "    </tr>\n",
       "    <tr>\n",
       "      <th>3</th>\n",
       "      <td>11/1/2000</td>\n",
       "      <td>1849332</td>\n",
       "      <td>45-49</td>\n",
       "      <td>Others</td>\n",
       "      <td>120108</td>\n",
       "      <td>4710126092129</td>\n",
       "      <td>1</td>\n",
       "      <td>32</td>\n",
       "      <td>38</td>\n",
       "    </tr>\n",
       "    <tr>\n",
       "      <th>4</th>\n",
       "      <td>11/1/2000</td>\n",
       "      <td>1981995</td>\n",
       "      <td>50-54</td>\n",
       "      <td>115</td>\n",
       "      <td>100205</td>\n",
       "      <td>4710176021445</td>\n",
       "      <td>1</td>\n",
       "      <td>14</td>\n",
       "      <td>18</td>\n",
       "    </tr>\n",
       "  </tbody>\n",
       "</table>\n",
       "</div>"
      ],
      "text/plain": [
       "  TRANSACTION_DT  CUSTOMER_ID AGE_GROUP PIN_CODE  PRODUCT_SUBCLASS  \\\n",
       "0      11/1/2000      1104905     45-49      115            110411   \n",
       "1      11/1/2000       418683     45-49      115            120107   \n",
       "2      11/1/2000      1057331     35-39      115            100407   \n",
       "3      11/1/2000      1849332     45-49   Others            120108   \n",
       "4      11/1/2000      1981995     50-54      115            100205   \n",
       "\n",
       "      PRODUCT_ID  AMOUNT  ASSET  SALES_PRICE  \n",
       "0  4710199010372       2     24           30  \n",
       "1  4710857472535       1     48           46  \n",
       "2  4710043654103       2    142          166  \n",
       "3  4710126092129       1     32           38  \n",
       "4  4710176021445       1     14           18  "
      ]
     },
     "execution_count": 2,
     "metadata": {},
     "output_type": "execute_result"
    }
   ],
   "source": [
    "from choice_learn.datasets import load_tafeng\n",
    "\n",
    "tafeng_df = load_tafeng(as_frame=True)\n",
    "tafeng_df.head()"
   ]
  },
  {
   "cell_type": "code",
   "execution_count": 3,
   "metadata": {},
   "outputs": [
    {
     "data": {
      "text/html": [
       "<div>\n",
       "<style scoped>\n",
       "    .dataframe tbody tr th:only-of-type {\n",
       "        vertical-align: middle;\n",
       "    }\n",
       "\n",
       "    .dataframe tbody tr th {\n",
       "        vertical-align: top;\n",
       "    }\n",
       "\n",
       "    .dataframe thead th {\n",
       "        text-align: right;\n",
       "    }\n",
       "</style>\n",
       "<table border=\"1\" class=\"dataframe\">\n",
       "  <thead>\n",
       "    <tr style=\"text-align: right;\">\n",
       "      <th></th>\n",
       "      <th>TRANSACTION_DT</th>\n",
       "      <th>CUSTOMER_ID</th>\n",
       "      <th>AGE_GROUP</th>\n",
       "      <th>PIN_CODE</th>\n",
       "      <th>PRODUCT_SUBCLASS</th>\n",
       "      <th>PRODUCT_ID</th>\n",
       "      <th>AMOUNT</th>\n",
       "      <th>ASSET</th>\n",
       "      <th>SALES_PRICE</th>\n",
       "    </tr>\n",
       "  </thead>\n",
       "  <tbody>\n",
       "    <tr>\n",
       "      <th>0</th>\n",
       "      <td>11/1/2000</td>\n",
       "      <td>1187366</td>\n",
       "      <td>25-29</td>\n",
       "      <td>221</td>\n",
       "      <td>130315</td>\n",
       "      <td>4714981010038</td>\n",
       "      <td>2</td>\n",
       "      <td>56</td>\n",
       "      <td>48</td>\n",
       "    </tr>\n",
       "    <tr>\n",
       "      <th>1</th>\n",
       "      <td>11/1/2000</td>\n",
       "      <td>630849</td>\n",
       "      <td>40-44</td>\n",
       "      <td>115</td>\n",
       "      <td>130315</td>\n",
       "      <td>4714981010038</td>\n",
       "      <td>2</td>\n",
       "      <td>56</td>\n",
       "      <td>48</td>\n",
       "    </tr>\n",
       "    <tr>\n",
       "      <th>2</th>\n",
       "      <td>11/1/2000</td>\n",
       "      <td>217361</td>\n",
       "      <td>45-49</td>\n",
       "      <td>115</td>\n",
       "      <td>120103</td>\n",
       "      <td>4710011401128</td>\n",
       "      <td>2</td>\n",
       "      <td>46</td>\n",
       "      <td>56</td>\n",
       "    </tr>\n",
       "    <tr>\n",
       "      <th>3</th>\n",
       "      <td>11/1/2000</td>\n",
       "      <td>305167</td>\n",
       "      <td>&gt;65</td>\n",
       "      <td>115</td>\n",
       "      <td>110217</td>\n",
       "      <td>4719090900058</td>\n",
       "      <td>1</td>\n",
       "      <td>145</td>\n",
       "      <td>149</td>\n",
       "    </tr>\n",
       "    <tr>\n",
       "      <th>4</th>\n",
       "      <td>11/1/2000</td>\n",
       "      <td>760225</td>\n",
       "      <td>30-34</td>\n",
       "      <td>115</td>\n",
       "      <td>110106</td>\n",
       "      <td>4711271000014</td>\n",
       "      <td>1</td>\n",
       "      <td>14</td>\n",
       "      <td>16</td>\n",
       "    </tr>\n",
       "  </tbody>\n",
       "</table>\n",
       "</div>"
      ],
      "text/plain": [
       "  TRANSACTION_DT  CUSTOMER_ID AGE_GROUP PIN_CODE  PRODUCT_SUBCLASS  \\\n",
       "0      11/1/2000      1187366     25-29      221            130315   \n",
       "1      11/1/2000       630849     40-44      115            130315   \n",
       "2      11/1/2000       217361     45-49      115            120103   \n",
       "3      11/1/2000       305167       >65      115            110217   \n",
       "4      11/1/2000       760225     30-34      115            110106   \n",
       "\n",
       "      PRODUCT_ID  AMOUNT  ASSET  SALES_PRICE  \n",
       "0  4714981010038       2     56           48  \n",
       "1  4714981010038       2     56           48  \n",
       "2  4710011401128       2     46           56  \n",
       "3  4719090900058       1    145          149  \n",
       "4  4711271000014       1     14           16  "
      ]
     },
     "execution_count": 3,
     "metadata": {},
     "output_type": "execute_result"
    }
   ],
   "source": [
    "tafeng_df = tafeng_df.loc[tafeng_df.PRODUCT_ID.isin(tafeng_df.PRODUCT_ID.value_counts().index[:20])].reset_index(drop=True)\n",
    "tafeng_df = tafeng_df.loc[tafeng_df.AGE_GROUP.isin(['25-29', '40-44', '45-49', '>65', '30-34', '35-39', '50-54',\n",
    "       '55-59', '60-64'])].reset_index(drop=True)\n",
    "tafeng_df.head()"
   ]
  },
  {
   "cell_type": "code",
   "execution_count": 4,
   "metadata": {},
   "outputs": [],
   "source": [
    "tafeng_df[\"twenties\"] = tafeng_df.apply(lambda row: 1 if row[\"AGE_GROUP\"] == \"25-29\" else 0, axis=1)\n",
    "tafeng_df[\"thirties\"] = tafeng_df.apply(lambda row: 1 if row[\"AGE_GROUP\"] in ([\"30-34\", \"35-39\"]) else 0, axis=1)\n",
    "tafeng_df[\"forties\"] = tafeng_df.apply(lambda row: 1 if row[\"AGE_GROUP\"] in ([\"40-44\", \"45-49\"]) else 0, axis=1)\n",
    "tafeng_df[\"fifties\"] = tafeng_df.apply(lambda row: 1 if row[\"AGE_GROUP\"] in ([\"50-54\", \"55-59\"]) else 0, axis=1)\n",
    "tafeng_df[\"sixties_and_above\"] = tafeng_df.apply(lambda row: 1 if row[\"AGE_GROUP\"] in ([\"60-64\", \">65\"]) else 0, axis=1)"
   ]
  },
  {
   "cell_type": "code",
   "execution_count": 5,
   "metadata": {},
   "outputs": [],
   "source": [
    "# product ID to index\n",
    "id_to_index = {}\n",
    "for i, product_id in enumerate(np.sort(tafeng_df.PRODUCT_ID.unique())):\n",
    "    id_to_index[product_id] = i\n",
    "\n",
    "prices = [[0] for _ in range(len(id_to_index))]\n",
    "for k, v in id_to_index.items():\n",
    "    prices[v][0] = tafeng_df.loc[tafeng_df.PRODUCT_ID == k].SALES_PRICE.to_numpy()[0]\n",
    "\n",
    "# Create the arrays that will constitute the ChoiceDataset\n",
    "\n",
    "shared_features = []\n",
    "items_features = []\n",
    "choices = []\n",
    "\n",
    "for i, row in tafeng_df.iterrows():\n",
    "    item_index = id_to_index[row.PRODUCT_ID]\n",
    "    prices[item_index][0] = row.SALES_PRICE\n",
    "    shared_features.append(row[['twenties', 'thirties', 'forties', 'fifties', 'sixties_and_above']].to_numpy())\n",
    "    items_features.append(prices)\n",
    "    choices.append(item_index)"
   ]
  },
  {
   "cell_type": "code",
   "execution_count": 6,
   "metadata": {},
   "outputs": [],
   "source": [
    "from choice_learn.data import ChoiceDataset\n",
    "\n",
    "dataset = ChoiceDataset(\n",
    "    shared_features_by_choice=shared_features,\n",
    "    shared_features_by_choice_names=['twenties', 'thirties', 'forties', 'fifties', 'sixties_and_above>'],\n",
    "    items_features_by_choice=items_features,\n",
    "    items_features_by_choice_names=[\"SALES_PRICE\"],\n",
    "    choices=choices\n",
    ")"
   ]
  },
  {
   "cell_type": "code",
   "execution_count": 7,
   "metadata": {},
   "outputs": [
    {
     "name": "stderr",
     "output_type": "stream",
     "text": [
      "2024-10-02 09:55:06.720384: I external/local_tsl/tsl/cuda/cudart_stub.cc:32] Could not find cuda drivers on your machine, GPU will not be used.\n",
      "2024-10-02 09:55:06.722824: I external/local_tsl/tsl/cuda/cudart_stub.cc:32] Could not find cuda drivers on your machine, GPU will not be used.\n",
      "2024-10-02 09:55:06.749567: I tensorflow/core/platform/cpu_feature_guard.cc:210] This TensorFlow binary is optimized to use available CPU instructions in performance-critical operations.\n",
      "To enable the following instructions: AVX2 FMA, in other operations, rebuild TensorFlow with the appropriate compiler flags.\n",
      "2024-10-02 09:55:07.334247: W tensorflow/compiler/tf2tensorrt/utils/py_utils.cc:38] TF-TRT Warning: Could not find TensorRT\n",
      "2024-10-02 09:55:07.728920: E external/local_xla/xla/stream_executor/cuda/cuda_driver.cc:282] failed call to cuInit: CUDA_ERROR_NO_DEVICE: no CUDA-capable device is detected\n",
      "2024-10-02 09:55:07.728951: I external/local_xla/xla/stream_executor/cuda/cuda_diagnostics.cc:134] retrieving CUDA diagnostic information for host: research-Lambda-Vector\n",
      "2024-10-02 09:55:07.728954: I external/local_xla/xla/stream_executor/cuda/cuda_diagnostics.cc:141] hostname: research-Lambda-Vector\n",
      "2024-10-02 09:55:07.729025: I external/local_xla/xla/stream_executor/cuda/cuda_diagnostics.cc:165] libcuda reported version is: 525.116.4\n",
      "2024-10-02 09:55:07.729037: I external/local_xla/xla/stream_executor/cuda/cuda_diagnostics.cc:169] kernel reported version is: 525.116.4\n",
      "2024-10-02 09:55:07.729040: I external/local_xla/xla/stream_executor/cuda/cuda_diagnostics.cc:248] kernel version seems to match DSO: 525.116.4\n",
      "100%|██████████| 300/300 [02:07<00:00,  2.35it/s]\n"
     ]
    }
   ],
   "source": [
    "from choice_learn.models import ConditionalLogit\n",
    "\n",
    "model = ConditionalLogit(optimizer=\"Adam\", batch_size=1024, epochs=300, lr=0.002)\n",
    "\n",
    "for age_category in ['twenties', 'thirties', 'forties', 'fifties', 'sixties_and_above>']:\n",
    "    model.add_coefficients(coefficient_name=age_category,\n",
    "    feature_name=age_category,\n",
    "    items_indexes=list(range(20)))\n",
    "\n",
    "model.add_shared_coefficient(coefficient_name=\"price\", feature_name=\"SALES_PRICE\", items_indexes=list(range(20)))\n",
    "\n",
    "hist = model.fit(dataset)"
   ]
  },
  {
   "cell_type": "code",
   "execution_count": 8,
   "metadata": {},
   "outputs": [
    {
     "data": {
      "text/plain": [
       "Text(0, 0.5, 'Negative Log Likelihood')"
      ]
     },
     "execution_count": 8,
     "metadata": {},
     "output_type": "execute_result"
    },
    {
     "data": {
      "image/png": "[encoded data removed]",
      "text/plain": [
       "<Figure size 640x480 with 1 Axes>"
      ]
     },
     "metadata": {},
     "output_type": "display_data"
    }
   ],
   "source": [
    "import matplotlib.pyplot as plt\n",
    "\n",
    "plt.plot(hist[\"train_loss\"])\n",
    "plt.xlabel(\"Epoch\")\n",
    "plt.ylabel(\"Negative Log Likelihood\")"
   ]
  },
  {
   "cell_type": "code",
   "execution_count": 9,
   "metadata": {},
   "outputs": [],
   "source": [
    "future_prices = np.stack([items_features[-1]]*5, axis=0)\n",
    "age_category = np.eye(5).astype(\"float32\")\n",
    "predicted_utilities = model.compute_batch_utility(shared_features_by_choice=age_category,\n",
    "                                                  items_features_by_choice=future_prices,\n",
    "                                                  available_items_by_choice=np.ones((5, 20)),\n",
    "                                                  choices=None\n",
    "                                                  )\n",
    "\n",
    "age_category_weights = np.sum(shared_features, axis=0) / len(shared_features)"
   ]
  },
  {
   "cell_type": "code",
   "execution_count": 10,
   "metadata": {},
   "outputs": [],
   "source": [
    "from choice_learn.toolbox.assortment_optimizer import LatentClassAssortmentOptimizer\n",
    "\n",
    "opt = LatentClassAssortmentOptimizer(\n",
    "    solver=\"or-tools\", # Solver to use, either \"or-tools\" or \"gurobi\"\n",
    "    class_weights=age_category_weights, # Weights of each class\n",
    "    class_utilities=np.exp(predicted_utilities), # utilities in the shape (n_classes, n_items)\n",
    "    itemwise_values=future_prices[0][:, 0], # Values to optimize for each item, here price that is used to compute turnover\n",
    "    assortment_size=12) # Size of the assortment we want\n",
    "\n",
    "assortment, opt_obj = opt.solve()"
   ]
  },
  {
   "cell_type": "code",
   "execution_count": 11,
   "metadata": {},
   "outputs": [
    {
     "name": "stdout",
     "output_type": "stream",
     "text": [
      "Our Optimal Assortment is:\n",
      "[0. 0. 1. 0. 0. 0. 0. 1. 1. 0. 0. 0. 1. 0. 0. 0. 0. 0. 1. 1.]\n",
      "With an estimated average revenue of: 135.35206572413668\n",
      "Size of our assortment: 6 which is fine with our limit of 12!\n"
     ]
    }
   ],
   "source": [
    "print(\"Our Optimal Assortment is:\")\n",
    "print(assortment)\n",
    "print(\"With an estimated average revenue of:\", opt_obj)\n",
    "print(\"Size of our assortment:\", np.sum((assortment > 0)), \"which is fine with our limit of 12!\")"
   ]
  },
  {
   "cell_type": "code",
   "execution_count": null,
   "metadata": {},
   "outputs": [],
   "source": []
  },
  {
   "cell_type": "code",
   "execution_count": null,
   "metadata": {},
   "outputs": [],
   "source": []
  }
 ],
 "metadata": {
  "kernelspec": {
   "display_name": "choice_learn",
   "language": "python",
   "name": "python3"
  },
  "language_info": {
   "codemirror_mode": {
    "name": "ipython",
    "version": 3
   },
   "file_extension": ".py",
   "mimetype": "text/x-python",
   "name": "python",
   "nbconvert_exporter": "python",
   "pygments_lexer": "ipython3",
   "version": "3.11.5"
  }
 },
 "nbformat": 4,
 "nbformat_minor": 2
}
