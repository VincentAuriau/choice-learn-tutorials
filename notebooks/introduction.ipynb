{
 "cells": [
  {
   "cell_type": "code",
   "execution_count": null,
   "metadata": {},
   "outputs": [],
   "source": [
    "from choice_learn.datasets import load_modecanada\n",
    "\n",
    "dataset = load_modecanada(as_frame=True)\n",
    "dataset.head()"
   ]
  },
  {
   "cell_type": "code",
   "execution_count": null,
   "metadata": {},
   "outputs": [],
   "source": [
    "# Let's check one specific situation\n",
    "dataset.loc[dataset.case == 1]"
   ]
  },
  {
   "cell_type": "code",
   "execution_count": 3,
   "metadata": {},
   "outputs": [],
   "source": [
    "from choice_learn.data import ChoiceDataset\n",
    "\n",
    "choice_dataset = ChoiceDataset.from_single_long_df(\n",
    "  df=dataset,\n",
    "  shared_features_columns=[\"income\"],\n",
    "  items_features_columns=[\"cost\", \"ivt\", \"ovt\", \"freq\"],\n",
    "  items_id_column=\"alt\",\n",
    "  choices_id_column=\"case\",\n",
    "  choices_column=\"choice\",\n",
    "  choice_format=\"one_zero\",\n",
    ")"
   ]
  },
  {
   "cell_type": "code",
   "execution_count": null,
   "metadata": {},
   "outputs": [],
   "source": [
    "from choice_learn.models import ConditionalLogit\n",
    "\n",
    "# Initialize the model\n",
    "model = ConditionalLogit()\n",
    "\n",
    "# Create the different weights:\n",
    "# Shared coefficients apply to all items in the list\n",
    "# (e.g., price, frequency, and ovt)\n",
    "model.add_shared_coefficient(feature_name=\"cost\",\n",
    "  items_indexes=[0, 1, 2, 3])\n",
    "\n",
    "model.add_shared_coefficient(feature_name=\"freq\",\n",
    "  coefficient_name=\"beta_frequence\",\n",
    "  items_indexes=[0, 1, 2, 3])\n",
    "\n",
    "model.add_shared_coefficient(feature_name=\"ovt\",\n",
    "  items_indexes=[0, 1, 2, 3])\n",
    "\n",
    "# 'ivt' has a separate coefficient for each item\n",
    "model.add_coefficients(feature_name=\"ivt\",\n",
    "  items_indexes=[0, 1, 2, 3])\n",
    "\n",
    "# Add intercept and income coefficients,\n",
    "# applied to all items except the first one (which is zeroed)\n",
    "model.add_coefficients(feature_name=\"intercept\",\n",
    "  items_indexes=[1, 2, 3])\n",
    "\n",
    "model.add_coefficients(feature_name=\"income\",\n",
    "  items_indexes=[1, 2, 3])"
   ]
  },
  {
   "cell_type": "code",
   "execution_count": null,
   "metadata": {},
   "outputs": [],
   "source": [
    "history = model.fit(choice_dataset, get_report=True, verbose=2)\n",
    "model.report"
   ]
  },
  {
   "cell_type": "code",
   "execution_count": null,
   "metadata": {},
   "outputs": [],
   "source": [
    "import matplotlib.pyplot as plt\n",
    "\n",
    "shared_features_by_choice = [choice_dataset.shared_features_by_choice[0][2237]]*10\n",
    "items_features_by_choice = [choice_dataset.items_features_by_choice[0][2237].copy() for _ in range(10)]\n",
    "\n",
    "colors = [\"#9ae1e2\", \"#332851\", \"#ca3074\", \"#f6c677\"]\n",
    "values = []\n",
    "for i in range(10):\n",
    "    items_features_by_choice[i][1][0] = 10 * i\n",
    "    values.append(items_features_by_choice[i][1][0])\n",
    "play_dataset = ChoiceDataset(\n",
    "    shared_features_by_choice = shared_features_by_choice,\n",
    "    items_features_by_choice = items_features_by_choice,\n",
    "    choices = canada_dataset.choices[:10]\n",
    ")\n",
    "\n",
    "probs = model.predict_probas(play_dataset)\n",
    "\n",
    "items = ['bus', \"car\", \"train\"]\n",
    "plt.figure(figsize=(12, 5))\n",
    "plt.subplot(1, 2, 1)\n",
    "plt.fill_between(values, [0 for _ in values], probs[:, 0], label=f\"air\", color=colors[0])\n",
    "for i in range(1, 4):\n",
    "    plt.fill_between(values, np.sum(probs[:, :i], axis=1), np.sum(probs[:, :i+1], axis=1), label=f\"{items[i-1]}\", color=colors[i])\n",
    "plt.xlabel(\"Bus Ticket Price\")\n",
    "plt.ylabel(\"Probability of choice\")\n",
    "plt.legend()\n",
    "\n",
    "\n",
    "shared_features_by_choice = [canada_dataset.shared_features_by_choice[0][2237].copy() for _ in range(10)]\n",
    "items_features_by_choice = [canada_dataset.items_features_by_choice[0][2237].copy() for _ in range(10)]\n",
    "for i in range(10):\n",
    "    shared_features_by_choice[i][0] += 10 * i\n",
    "play_dataset = ChoiceDataset(\n",
    "    shared_features_by_choice = shared_features_by_choice,\n",
    "    items_features_by_choice = items_features_by_choice,\n",
    "    choices = canada_dataset.choices[:10]\n",
    ")\n",
    "\n",
    "probs = model.predict_probas(play_dataset)\n",
    "\n",
    "plt.subplot(1, 2, 2)\n",
    "plt.fill_between(values, [0 for _ in values], probs[:, 0], label=f\"air\", color=colors[0])\n",
    "for i in range(1, 4):\n",
    "    plt.fill_between(values, np.sum(probs[:, :i], axis=1), np.sum(probs[:, :i+1], axis=1), label=f\"{items[i-1]}\", color=colors[i])\n",
    "    \n",
    "plt.xlabel(\"Customer Income\")\n",
    "plt.ylabel(\"Probability of choice\")\n",
    "plt.legend()"
   ]
  },
  {
   "cell_type": "code",
   "execution_count": null,
   "metadata": {},
   "outputs": [],
   "source": []
  }
 ],
 "metadata": {
  "kernelspec": {
   "display_name": "tutorials",
   "language": "python",
   "name": "python3"
  },
  "language_info": {
   "codemirror_mode": {
    "name": "ipython",
    "version": 3
   },
   "file_extension": ".py",
   "mimetype": "text/x-python",
   "name": "python",
   "nbconvert_exporter": "python",
   "pygments_lexer": "ipython3",
   "version": "3.11.5"
  }
 },
 "nbformat": 4,
 "nbformat_minor": 2
}
